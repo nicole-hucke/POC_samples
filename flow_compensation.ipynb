{
 "cells": [
  {
   "attachments": {},
   "cell_type": "markdown",
   "metadata": {},
   "source": [
    "#### Import and format the data"
   ]
  },
  {
   "cell_type": "code",
   "execution_count": 78,
   "metadata": {},
   "outputs": [],
   "source": [
    "import pandas as pd\n",
    "import matplotlib.pyplot as plt\n",
    "import os\n",
    "\n",
    "# Read the data from a CSV file\n",
    "data = pd.read_csv('P6\\P6-C_230707101604_U1655.CSV', skiprows=range(0, 51), usecols=[0,1,2]) \n",
    "barom = pd.read_csv('Barometric_Boi_230707101832_P3959.CSV', skiprows=range(0, 51), usecols=[0,1,2])\n",
    "\n",
    "# Dropping the last row\n",
    "data = data.drop(data.index[-1])\n",
    "barom = barom.drop(barom.index[-1])\n",
    "\n",
    "# Convert the 'DateTime' column to datetime type if it's not already\n",
    "data['Date/time'] = pd.to_datetime(data['Date/time'])\n",
    "barom['Date/time'] = pd.to_datetime(barom['Date/time'])\n",
    "\n",
    "# Set 'DateTime' column as the index\n",
    "data.set_index('Date/time', inplace=True)\n",
    "barom.set_index('Date/time', inplace=True)\n"
   ]
  },
  {
   "attachments": {},
   "cell_type": "markdown",
   "metadata": {},
   "source": [
    "#### Interpolation so that time stamps will match (using the resample method from pandas)"
   ]
  },
  {
   "cell_type": "code",
   "execution_count": 79,
   "metadata": {},
   "outputs": [],
   "source": [
    "# Resample the DataFrame to 5-minute intervals and interpolate missing values\n",
    "data_resampled = data.resample('5T').interpolate()\n",
    "barom_resampled = barom.resample('5T').interpolate()\n",
    "\n",
    "# Reset the index to obtain a DataFrame with 'DateTime' as a column\n",
    "data_resampled.reset_index(inplace=True)\n",
    "barom_resampled.reset_index(inplace=True)\n"
   ]
  },
  {
   "attachments": {},
   "cell_type": "markdown",
   "metadata": {},
   "source": [
    "#### Merge both barom and data df to match the same dates and time"
   ]
  },
  {
   "cell_type": "code",
   "execution_count": 80,
   "metadata": {},
   "outputs": [
    {
     "name": "stdout",
     "output_type": "stream",
     "text": [
      "                 Date/time    Pressure  Temperature[°C]  Barometric\n",
      "0      2022-07-12 16:00:00  750.817000        15.263000  755.425000\n",
      "1      2022-07-12 16:05:00  750.758667        15.243000  755.308333\n",
      "2      2022-07-12 16:10:00  750.700333        15.223000  755.191667\n",
      "3      2022-07-12 16:15:00  750.642000        15.203000  755.075000\n",
      "4      2022-07-12 16:20:00  750.583667        15.016333  755.133333\n",
      "...                    ...         ...              ...         ...\n",
      "101318 2023-06-29 11:10:00  748.833333        11.885667  752.761333\n",
      "101319 2023-06-29 11:15:00  748.775000        11.927000  752.742000\n",
      "101320 2023-06-29 11:20:00  748.833333        11.904667  752.644667\n",
      "101321 2023-06-29 11:25:00  748.891667        11.882333  752.547333\n",
      "101322 2023-06-29 11:30:00  748.950000        11.860000  752.450000\n",
      "\n",
      "[101323 rows x 4 columns]\n"
     ]
    }
   ],
   "source": [
    "# Merge the 'data' and 'barom' DataFrames on the common columns\n",
    "merged_data = pd.merge(data_resampled, barom_resampled[['Date/time', 'Pressure[cmH2O]']], on='Date/time', how='left')\n",
    "\n",
    "\n",
    "# Change the pressure column names\n",
    "merged_data.rename(columns={'Pressure[cmH2O]_y': 'Barometric'}, inplace=True)\n",
    "merged_data.rename(columns={'Pressure[cmH2O]_x': 'Pressure'}, inplace=True)\n",
    "\n",
    "# Drop all rows that have a Nan\n",
    "merged_data.dropna(inplace=True)\n",
    "\n",
    "# Print the merged DataFrame\n",
    "print(merged_data)"
   ]
  },
  {
   "attachments": {},
   "cell_type": "markdown",
   "metadata": {},
   "source": [
    "#### Compensate the pressure with the barometric and temperature"
   ]
  },
  {
   "cell_type": "code",
   "execution_count": 81,
   "metadata": {},
   "outputs": [],
   "source": [
    "# Get the parameters\n",
    "d_transducer = 0.4   # Depth of the pressure transducer in m - this value changes with each piezometer\n",
    "\n",
    "# Convert the pressure from cmH2O to Pascals\n",
    "barom_pa = merged_data['Barometric'] * 98.0665\n",
    "pressure_pa = merged_data['Pressure'] * 98.0665\n",
    "\n",
    "# Calculate the water density at the measured temperature\n",
    "rho = 1000 / (1 + 0.00021 * (merged_data['Temperature[°C]'] - 4))\n",
    "\n",
    "# Calculate the water depth\n",
    "merged_data['Depth'] = (pressure_pa - barom_pa) / (rho * 9.81) + (0.5 - d_transducer)\n",
    "\n",
    "# Save as csv in the compensated flow depth folder\n",
    "output_folder = \"../compensated-flow-depth\"\n",
    "merged_data.to_csv(os.path.join(output_folder, \"P6(2).csv\"), index=False)"
   ]
  },
  {
   "cell_type": "code",
   "execution_count": 82,
   "metadata": {},
   "outputs": [
    {
     "data": {
      "text/html": [
       "<div>\n",
       "<style scoped>\n",
       "    .dataframe tbody tr th:only-of-type {\n",
       "        vertical-align: middle;\n",
       "    }\n",
       "\n",
       "    .dataframe tbody tr th {\n",
       "        vertical-align: top;\n",
       "    }\n",
       "\n",
       "    .dataframe thead th {\n",
       "        text-align: right;\n",
       "    }\n",
       "</style>\n",
       "<table border=\"1\" class=\"dataframe\">\n",
       "  <thead>\n",
       "    <tr style=\"text-align: right;\">\n",
       "      <th></th>\n",
       "      <th>Date/time</th>\n",
       "      <th>Pressure</th>\n",
       "      <th>Temperature[°C]</th>\n",
       "      <th>Barometric</th>\n",
       "      <th>Depth</th>\n",
       "    </tr>\n",
       "  </thead>\n",
       "  <tbody>\n",
       "    <tr>\n",
       "      <th>0</th>\n",
       "      <td>2022-07-12 16:00:00</td>\n",
       "      <td>750.817000</td>\n",
       "      <td>15.263000</td>\n",
       "      <td>755.425000</td>\n",
       "      <td>0.053827</td>\n",
       "    </tr>\n",
       "    <tr>\n",
       "      <th>1</th>\n",
       "      <td>2022-07-12 16:05:00</td>\n",
       "      <td>750.758667</td>\n",
       "      <td>15.243000</td>\n",
       "      <td>755.308333</td>\n",
       "      <td>0.054411</td>\n",
       "    </tr>\n",
       "    <tr>\n",
       "      <th>2</th>\n",
       "      <td>2022-07-12 16:10:00</td>\n",
       "      <td>750.700333</td>\n",
       "      <td>15.223000</td>\n",
       "      <td>755.191667</td>\n",
       "      <td>0.054996</td>\n",
       "    </tr>\n",
       "    <tr>\n",
       "      <th>3</th>\n",
       "      <td>2022-07-12 16:15:00</td>\n",
       "      <td>750.642000</td>\n",
       "      <td>15.203000</td>\n",
       "      <td>755.075000</td>\n",
       "      <td>0.055581</td>\n",
       "    </tr>\n",
       "    <tr>\n",
       "      <th>4</th>\n",
       "      <td>2022-07-12 16:20:00</td>\n",
       "      <td>750.583667</td>\n",
       "      <td>15.016333</td>\n",
       "      <td>755.133333</td>\n",
       "      <td>0.054414</td>\n",
       "    </tr>\n",
       "    <tr>\n",
       "      <th>...</th>\n",
       "      <td>...</td>\n",
       "      <td>...</td>\n",
       "      <td>...</td>\n",
       "      <td>...</td>\n",
       "      <td>...</td>\n",
       "    </tr>\n",
       "    <tr>\n",
       "      <th>101318</th>\n",
       "      <td>2023-06-29 11:10:00</td>\n",
       "      <td>748.833333</td>\n",
       "      <td>11.885667</td>\n",
       "      <td>752.761333</td>\n",
       "      <td>0.060668</td>\n",
       "    </tr>\n",
       "    <tr>\n",
       "      <th>101319</th>\n",
       "      <td>2023-06-29 11:15:00</td>\n",
       "      <td>748.775000</td>\n",
       "      <td>11.927000</td>\n",
       "      <td>752.742000</td>\n",
       "      <td>0.060278</td>\n",
       "    </tr>\n",
       "    <tr>\n",
       "      <th>101320</th>\n",
       "      <td>2023-06-29 11:20:00</td>\n",
       "      <td>748.833333</td>\n",
       "      <td>11.904667</td>\n",
       "      <td>752.644667</td>\n",
       "      <td>0.061836</td>\n",
       "    </tr>\n",
       "    <tr>\n",
       "      <th>101321</th>\n",
       "      <td>2023-06-29 11:25:00</td>\n",
       "      <td>748.891667</td>\n",
       "      <td>11.882333</td>\n",
       "      <td>752.547333</td>\n",
       "      <td>0.063395</td>\n",
       "    </tr>\n",
       "    <tr>\n",
       "      <th>101322</th>\n",
       "      <td>2023-06-29 11:30:00</td>\n",
       "      <td>748.950000</td>\n",
       "      <td>11.860000</td>\n",
       "      <td>752.450000</td>\n",
       "      <td>0.064954</td>\n",
       "    </tr>\n",
       "  </tbody>\n",
       "</table>\n",
       "<p>101323 rows × 5 columns</p>\n",
       "</div>"
      ],
      "text/plain": [
       "                 Date/time    Pressure  Temperature[°C]  Barometric     Depth\n",
       "0      2022-07-12 16:00:00  750.817000        15.263000  755.425000  0.053827\n",
       "1      2022-07-12 16:05:00  750.758667        15.243000  755.308333  0.054411\n",
       "2      2022-07-12 16:10:00  750.700333        15.223000  755.191667  0.054996\n",
       "3      2022-07-12 16:15:00  750.642000        15.203000  755.075000  0.055581\n",
       "4      2022-07-12 16:20:00  750.583667        15.016333  755.133333  0.054414\n",
       "...                    ...         ...              ...         ...       ...\n",
       "101318 2023-06-29 11:10:00  748.833333        11.885667  752.761333  0.060668\n",
       "101319 2023-06-29 11:15:00  748.775000        11.927000  752.742000  0.060278\n",
       "101320 2023-06-29 11:20:00  748.833333        11.904667  752.644667  0.061836\n",
       "101321 2023-06-29 11:25:00  748.891667        11.882333  752.547333  0.063395\n",
       "101322 2023-06-29 11:30:00  748.950000        11.860000  752.450000  0.064954\n",
       "\n",
       "[101323 rows x 5 columns]"
      ]
     },
     "execution_count": 82,
     "metadata": {},
     "output_type": "execute_result"
    }
   ],
   "source": [
    "merged_data"
   ]
  }
 ],
 "metadata": {
  "kernelspec": {
   "display_name": "base",
   "language": "python",
   "name": "python3"
  },
  "language_info": {
   "codemirror_mode": {
    "name": "ipython",
    "version": 3
   },
   "file_extension": ".py",
   "mimetype": "text/x-python",
   "name": "python",
   "nbconvert_exporter": "python",
   "pygments_lexer": "ipython3",
   "version": "3.9.12"
  },
  "orig_nbformat": 4
 },
 "nbformat": 4,
 "nbformat_minor": 2
}
